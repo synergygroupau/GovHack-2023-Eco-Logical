{
 "cells": [
  {
   "cell_type": "code",
   "execution_count": 2,
   "metadata": {},
   "outputs": [],
   "source": [
    "from geopy.distance import geodesic \n",
    "def find_nearest(prop_table, centers): \n",
    "    nearests=[] \n",
    "    for i in range(len(prop_table.index)): \n",
    "        min_dist=1000 \n",
    "        min_centre=\"na\" \n",
    "        for j in range(len(centers.index)): \n",
    "            a=geodesic((prop_table.lat_v2.iloc[i],prop_table.lon_v2.iloc[i]), (centers[\"lat\"].iloc[j],centers[\"lon\"].iloc[j])).km \n",
    "            if a< min_dist: \n",
    "                min_dist=a \n",
    "                min_center=centers.clust[j] \n",
    "        nearests.append(min_center) \n",
    "        if i%100==0: \n",
    "            print(i) \n",
    "    return nearest  \n",
    "\n",
    "\n",
    "from sklearn.cluster import DBSCAN \n",
    "clustering = DBSCAN(eps=0.001, min_samples=27).fit_predict(blobs) \n",
    "blobs[\"clust\"]=clustering \n",
    "centers=blobs.groupby(\"clust\").mean().reset_index()"
   ]
  }
 ],
 "metadata": {
  "kernelspec": {
   "display_name": "Python 3",
   "language": "python",
   "name": "python3"
  },
  "language_info": {
   "codemirror_mode": {
    "name": "ipython",
    "version": 3
   },
   "file_extension": ".py",
   "mimetype": "text/x-python",
   "name": "python",
   "nbconvert_exporter": "python",
   "pygments_lexer": "ipython3",
   "version": "3.11.1"
  },
  "orig_nbformat": 4
 },
 "nbformat": 4,
 "nbformat_minor": 2
}
